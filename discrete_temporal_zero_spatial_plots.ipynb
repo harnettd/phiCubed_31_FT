{
 "cells": [
  {
   "attachments": {},
   "cell_type": "markdown",
   "metadata": {},
   "source": [
    "# Three-point vertex function at finite temperature"
   ]
  },
  {
   "attachments": {},
   "cell_type": "markdown",
   "metadata": {},
   "source": [
    "# Imports and definitions"
   ]
  },
  {
   "cell_type": "code",
   "execution_count": 1,
   "metadata": {},
   "outputs": [],
   "source": [
    "import matplotlib.pyplot as plt\n",
    "import numpy as np\n",
    "from sympy import expand, re, I, im\n",
    "\n",
    "import correlator as corr"
   ]
  },
  {
   "cell_type": "code",
   "execution_count": 2,
   "metadata": {},
   "outputs": [],
   "source": [
    "def finite_part(expr):\n",
    "    return expr.subs(\"eps\", 0)"
   ]
  },
  {
   "attachments": {},
   "cell_type": "markdown",
   "metadata": {},
   "source": [
    "## Gamma at zero temperature"
   ]
  },
  {
   "cell_type": "code",
   "execution_count": null,
   "metadata": {},
   "outputs": [],
   "source": [
    "mass = 2\n",
    "masses = mass, mass, mass\n",
    "qt_eucl_grid_zero_temp = np.arange(-15, 15, 0.25)\n",
    "qt_grid = qt_eucl_grid_zero_temp * (-1j)"
   ]
  },
  {
   "cell_type": "code",
   "execution_count": null,
   "metadata": {},
   "outputs": [],
   "source": [
    "zero_temp_Pi_data = [corr.zero_temp_use_psd([qt, 0, 0, 0], [qt, 0, 0, 0], *masses) for qt in qt_grid]"
   ]
  },
  {
   "cell_type": "code",
   "execution_count": null,
   "metadata": {},
   "outputs": [],
   "source": [
    "zero_temp_Gamma_data = [expand(I * Pi_val) for Pi_val in zero_temp_Pi_data]"
   ]
  },
  {
   "cell_type": "code",
   "execution_count": null,
   "metadata": {},
   "outputs": [],
   "source": [
    "re_Gamma_data = [re(finite_part(Gamma_val)) * 1e4 for Gamma_val in zero_temp_Gamma_data] \n",
    "im_Gamma_data = [im(finite_part(Gamma_val)) * 1e4 for Gamma_val in zero_temp_Gamma_data]\n",
    "fig, ax = plt.subplots()\n",
    "ax.plot(qt_eucl_grid_zero_temp, re_Gamma_data, label=r\"$\\mathrm{Re}\\,\\Gamma$\", color=\"blue\", marker=\".\")\n",
    "ax.plot(qt_eucl_grid_zero_temp, im_Gamma_data, label=r\"$\\mathrm{Im}\\,\\Gamma$\", color=\"red\", marker=\".\")\n",
    "ax.set_xlabel(r\"$p^{0}_E$\")\n",
    "ax.set_ylabel(r\"$\\Gamma\\times 10^{4}$\")\n",
    "ax.set_title(r\"$\\Gamma$ at Zero Temp. and $\\vec{p}_1 = \\vec{p}_2 = 0$\")\n",
    "ax.legend(loc=\"upper right\")"
   ]
  },
  {
   "attachments": {},
   "cell_type": "markdown",
   "metadata": {},
   "source": [
    "## Dimensionless Gamma at finite temperature"
   ]
  },
  {
   "attachments": {},
   "cell_type": "markdown",
   "metadata": {},
   "source": [
    "### Testing the scaling behaviour"
   ]
  },
  {
   "cell_type": "code",
   "execution_count": 3,
   "metadata": {},
   "outputs": [],
   "source": [
    "l_grid  = np.arange(-10, 11)\n",
    "q1 = [0, 0, 0]\n",
    "q2 = [0, 0, 0]\n",
    "xis = 1, 1, 1\n",
    "a = 0.5\n",
    "n_min = -12\n",
    "n_max = - n_min + 1"
   ]
  },
  {
   "cell_type": "code",
   "execution_count": 4,
   "metadata": {},
   "outputs": [],
   "source": [
    "dimensionless_Gamma_data_M1 = [corr.dimensionless_Gamma_finite_temp(l, q1, l, q2, *xis, a, n_min, n_max, 1) for l in l_grid]\n",
    "dimensionless_Gamma_data_M2 = [corr.dimensionless_Gamma_finite_temp(l, q1, l, q2, *xis, a, n_min, n_max, 2) for l in l_grid]\n",
    "dimensionless_Gamma_data_M3 = [corr.dimensionless_Gamma_finite_temp(l, q1, l, q2, *xis, a, n_min, n_max, 3) for l in l_grid]"
   ]
  },
  {
   "cell_type": "code",
   "execution_count": 8,
   "metadata": {},
   "outputs": [],
   "source": [
    "dimensionless_Gamma_plotdata_M1 = np.array([re(finite_part(x)) for x in dimensionless_Gamma_data_M1])\n",
    "dimensionless_Gamma_plotdata_M2 = np.array([re(finite_part(x)) for x in dimensionless_Gamma_data_M2])\n",
    "dimensionless_Gamma_plotdata_M3 = np.array([re(finite_part(x)) for x in dimensionless_Gamma_data_M3])"
   ]
  },
  {
   "cell_type": "code",
   "execution_count": 18,
   "metadata": {},
   "outputs": [
    {
     "name": "stdout",
     "output_type": "stream",
     "text": [
      "0.00387988907270133654\n",
      "0.00387988930165411970\n",
      "0.00387989253456580011\n"
     ]
    }
   ],
   "source": [
    "print(dimensionless_Gamma_plotdata_M1[10])\n",
    "print(dimensionless_Gamma_plotdata_M2[10])\n",
    "print(dimensionless_Gamma_plotdata_M3[10])"
   ]
  },
  {
   "cell_type": "code",
   "execution_count": 12,
   "metadata": {},
   "outputs": [
    {
     "data": {
      "text/plain": [
       "<matplotlib.collections.PathCollection at 0x7f0863059e20>"
      ]
     },
     "execution_count": 12,
     "metadata": {},
     "output_type": "execute_result"
    },
    {
     "data": {
      "image/png": "[encoded data removed]",
      "text/plain": [
       "<Figure size 432x288 with 1 Axes>"
      ]
     },
     "metadata": {
      "needs_background": "light"
     },
     "output_type": "display_data"
    }
   ],
   "source": [
    "fig, ax = plt.subplots()\n",
    "plt.scatter(l_grid, dimensionless_Gamma_plotdata_M1 * 1e3)\n",
    "plt.scatter(l_grid, dimensionless_Gamma_plotdata_M2 * 1e3)\n",
    "plt.scatter(l_grid, dimensionless_Gamma_plotdata_M3 * 1e3)"
   ]
  },
  {
   "attachments": {},
   "cell_type": "markdown",
   "metadata": {},
   "source": [
    "### Plotting the a-dependence"
   ]
  },
  {
   "cell_type": "code",
   "execution_count": 19,
   "metadata": {},
   "outputs": [],
   "source": [
    "l_grid  = np.arange(-20, 21)\n",
    "q1 = [0, 0, 0]\n",
    "q2 = [0, 0, 0]\n",
    "xis = 1, 1, 1\n",
    "a_list = [0.1, 0.5, 1, 5, 10]\n",
    "n_min = -20\n",
    "n_max = - n_min + 1"
   ]
  },
  {
   "cell_type": "code",
   "execution_count": 20,
   "metadata": {},
   "outputs": [],
   "source": [
    "# rows = len(a_list)\n",
    "# cols = len(l_grid)\n",
    "# dimensionless_Gamma_finite_temp_data = np.zeros(rows * cols).reshape(rows, cols)\n",
    "# for r in range(rows):\n",
    "#     for c in range(cols):\n",
    "#         dimensionless_Gamma_finite_temp_data[r, c] =\\\n",
    "#             re(finite_part(corr.dimensionless_Gamma_finite_temp(l_grid[c], q1, l_grid[c], q2, *xis, a_list[r], n_min, n_max, 1)))\n",
    "\n",
    "# np.save(\"dimensionless_Gamma_finite_temp_data\", dimensionless_Gamma_finite_temp_data)\n",
    "dimensionless_Gamma_finite_temp_data = np.load(\"dimensionless_Gamma_finite_temp_data.npy\", allow_pickle=True)"
   ]
  },
  {
   "cell_type": "code",
   "execution_count": 21,
   "metadata": {},
   "outputs": [
    {
     "data": {
      "text/plain": [
       "<matplotlib.legend.Legend at 0x7f52877b3fd0>"
      ]
     },
     "execution_count": 21,
     "metadata": {},
     "output_type": "execute_result"
    },
    {
     "data": {
      "image/png": "[encoded data removed]",
      "text/plain": [
       "<Figure size 432x288 with 1 Axes>"
      ]
     },
     "metadata": {
      "needs_background": "light"
     },
     "output_type": "display_data"
    }
   ],
   "source": [
    "fig, ax = plt.subplots()\n",
    "for index in range(len(a_list)):\n",
    "    ax.scatter(l_grid, dimensionless_Gamma_finite_temp_data[index, :] * 1e3, label=f\"a = {a_list[index]}\")\n",
    "ax.set_xlabel(r\"$l$\")\n",
    "ax.set_ylabel(r\"$\\tilde{\\Gamma}$\")\n",
    "ax.set_yscale(\"log\")\n",
    "ax.set_title(r\"$\\tilde{\\Gamma}$ at finite temp. for $l_1 = l_2 = l$, $\\vec{q}_1 = \\vec{q}_2 = 0$, and $\\xi_1 = \\xi_2 = \\xi_3 = 1$\")\n",
    "ax.legend(loc=\"upper right\")"
   ]
  },
  {
   "attachments": {},
   "cell_type": "markdown",
   "metadata": {},
   "source": [
    "### Dimensionless Gamma at zero temperature"
   ]
  },
  {
   "cell_type": "code",
   "execution_count": 16,
   "metadata": {},
   "outputs": [],
   "source": [
    "qt_eucl_grid = np.linspace(-15, 15, 60)\n",
    "zero_temp_Gamma_data\\\n",
    "    = np.array([corr.dimensionless_Gamma_zero_temp([qt_eucl, 0, 0, 0], [qt_eucl, 0, 0, 0], *xis, 1) for qt_eucl in qt_eucl_grid])"
   ]
  },
  {
   "cell_type": "code",
   "execution_count": 17,
   "metadata": {},
   "outputs": [],
   "source": [
    "zero_temp_Gamma_plotdata = np.array([re(finite_part(x)) for x in zero_temp_Gamma_data])"
   ]
  },
  {
   "cell_type": "code",
   "execution_count": 18,
   "metadata": {},
   "outputs": [
    {
     "data": {
      "text/plain": [
       "Text(0.5, 1.0, '$\\\\tilde{\\\\Gamma}$ at zero temp.')"
      ]
     },
     "execution_count": 18,
     "metadata": {},
     "output_type": "execute_result"
    },
    {
     "data": {
      "image/png": "[encoded data removed]",
      "text/plain": [
       "<Figure size 432x288 with 1 Axes>"
      ]
     },
     "metadata": {
      "needs_background": "light"
     },
     "output_type": "display_data"
    }
   ],
   "source": [
    "fig, ax = plt.subplots()\n",
    "ax.plot(qt_eucl_grid, zero_temp_Gamma_plotdata * 1e3)\n",
    "ax.set_xlabel(r\"$q^t_E$\")\n",
    "ax.set_ylabel(r\"$\\tilde{\\Gamma}$\")\n",
    "ax.set_yscale(\"log\")\n",
    "ax.set_title(r\"$\\tilde{\\Gamma}$ at zero temp.\")"
   ]
  }
 ],
 "metadata": {
  "kernelspec": {
   "display_name": "pysecdec-env",
   "language": "python",
   "name": "python3"
  },
  "language_info": {
   "codemirror_mode": {
    "name": "ipython",
    "version": 3
   },
   "file_extension": ".py",
   "mimetype": "text/x-python",
   "name": "python",
   "nbconvert_exporter": "python",
   "pygments_lexer": "ipython3",
   "version": "3.9.12"
  },
  "orig_nbformat": 4,
  "vscode": {
   "interpreter": {
    "hash": "d320b88fac0ae40178561ed434f6ae6c24c4a4a5c546d8b88a0df2ee837e0396"
   }
  }
 },
 "nbformat": 4,
 "nbformat_minor": 2
}
