{
 "cells": [
  {
   "cell_type": "markdown",
   "metadata": {},
   "source": [
    "# Dimensionless Finite-Temperature Vertex Function Convergence Plots"
   ]
  },
  {
   "cell_type": "code",
   "execution_count": 1,
   "metadata": {},
   "outputs": [],
   "source": [
    "import matplotlib.pyplot as plt\n",
    "import numpy as np\n",
    "import sympy as sp\n",
    "\n",
    "import finite_temperature_vertex as ftv"
   ]
  },
  {
   "cell_type": "code",
   "execution_count": 2,
   "metadata": {},
   "outputs": [],
   "source": [
    "eps = sp.symbols('eps')"
   ]
  },
  {
   "cell_type": "code",
   "execution_count": 3,
   "metadata": {},
   "outputs": [],
   "source": [
    "def real_finite_part(expr):\n",
    "    \"\"\"Return the real finite part of expr.\"\"\"\n",
    "    return complex(expr.subs(eps, 0)).real"
   ]
  },
  {
   "cell_type": "code",
   "execution_count": 4,
   "metadata": {},
   "outputs": [],
   "source": [
    "q1_eucl = [1, 0, 0, 0]\n",
    "q2_eucl = [1, 0, 0, 0]\n",
    "xis = 1, 1, 1\n",
    "a = 3"
   ]
  },
  {
   "cell_type": "code",
   "execution_count": 5,
   "metadata": {},
   "outputs": [],
   "source": [
    "n_max = 50"
   ]
  },
  {
   "cell_type": "code",
   "execution_count": 6,
   "metadata": {},
   "outputs": [],
   "source": [
    "uncorrected_results =\\\n",
    "    ftv.dimless_vertex_partial_sum_sequence(q1_eucl, q2_eucl, xis, a, n_max, add_zeta_correction=False)"
   ]
  },
  {
   "cell_type": "code",
   "execution_count": 7,
   "metadata": {},
   "outputs": [],
   "source": [
    "corrected_results =\\\n",
    "    ftv.dimless_vertex_partial_sum_sequence(q1_eucl, q2_eucl, xis, a, n_max, add_zeta_correction=True)"
   ]
  },
  {
   "cell_type": "code",
   "execution_count": 8,
   "metadata": {},
   "outputs": [],
   "source": [
    "uncorrected_parsums = np.array([real_finite_part(parsum) for parsum in uncorrected_results[0]])\n",
    "corrected_parsums = np.array([real_finite_part(parsum) for parsum in corrected_results[0]])"
   ]
  },
  {
   "cell_type": "code",
   "execution_count": 10,
   "metadata": {},
   "outputs": [],
   "source": [
    "uncorrected_parsums_err = np.array([real_finite_part(parsum) for parsum in uncorrected_results[1]])\n",
    "corrected_parsums_err = np.array([real_finite_part(parsum) for parsum in corrected_results[1]])"
   ]
  },
  {
   "cell_type": "code",
   "execution_count": 56,
   "metadata": {},
   "outputs": [
    {
     "data": {
      "text/plain": [
       "<matplotlib.legend.Legend at 0x7f2cdcc3ff70>"
      ]
     },
     "execution_count": 56,
     "metadata": {},
     "output_type": "execute_result"
    },
    {
     "data": {
      "image/png": "[encoded data removed]",
      "text/plain": [
       "<Figure size 432x288 with 1 Axes>"
      ]
     },
     "metadata": {
      "needs_background": "light"
     },
     "output_type": "display_data"
    }
   ],
   "source": [
    "n_grid = np.arange(0, n_max + 1)\n",
    "n_start = 6\n",
    "n_stop = 46\n",
    "fig, ax = plt.subplots()\n",
    "ax.errorbar(n_grid[n_start:n_stop], uncorrected_parsums[n_start:n_stop], yerr=uncorrected_parsums_err[n_start:n_stop],\n",
    "            fmt='None', color='blue', label='uncorrected')\n",
    "ax.errorbar(n_grid[n_start:n_stop], corrected_parsums[n_start:n_stop], yerr=corrected_parsums_err[n_start:n_stop],\n",
    "           fmt='None', color='orange', label='corrected')\n",
    "ax.set_xlabel(r'$n_{\\max}$', fontsize=12)\n",
    "ax.set_ylabel(r'$\\sum_{n=-n_{\\max}}^{n_{\\max}}\\tilde{\\Gamma}_{T,n}$', fontsize=12)\n",
    "ax.legend(loc='lower right')"
   ]
  },
  {
   "cell_type": "code",
   "execution_count": null,
   "metadata": {},
   "outputs": [],
   "source": []
  }
 ],
 "metadata": {
  "kernelspec": {
   "display_name": "Python 3 (ipykernel)",
   "language": "python",
   "name": "python3"
  },
  "language_info": {
   "codemirror_mode": {
    "name": "ipython",
    "version": 3
   },
   "file_extension": ".py",
   "mimetype": "text/x-python",
   "name": "python",
   "nbconvert_exporter": "python",
   "pygments_lexer": "ipython3",
   "version": "3.9.12"
  },
  "vscode": {
   "interpreter": {
    "hash": "d320b88fac0ae40178561ed434f6ae6c24c4a4a5c546d8b88a0df2ee837e0396"
   }
  }
 },
 "nbformat": 4,
 "nbformat_minor": 4
}
