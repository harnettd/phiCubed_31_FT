{
 "cells": [
  {
   "attachments": {},
   "cell_type": "markdown",
   "metadata": {},
   "source": [
    "# Dimensionless Finite-Temperature Vertex Function Convergence Plots"
   ]
  },
  {
   "cell_type": "code",
   "execution_count": 1,
   "metadata": {},
   "outputs": [],
   "source": [
    "import matplotlib.pyplot as plt\n",
    "import numpy as np\n",
    "import sympy as sp\n",
    "\n",
    "import finite_temperature_vertex as ftv"
   ]
  },
  {
   "cell_type": "code",
   "execution_count": 2,
   "metadata": {},
   "outputs": [],
   "source": [
    "eps = sp.symbols('eps')"
   ]
  },
  {
   "cell_type": "code",
   "execution_count": 3,
   "metadata": {},
   "outputs": [],
   "source": [
    "def real_finite_part(expr):\n",
    "    \"\"\"Return the real finite part of expr.\"\"\"\n",
    "    return complex(expr.subs(eps, 0)).real"
   ]
  },
  {
   "cell_type": "code",
   "execution_count": 54,
   "metadata": {},
   "outputs": [],
   "source": [
    "q1_eucl = [1, 0, 0, 0]\n",
    "q2_eucl = [2, 0, 0, 0]\n",
    "xis = 1, 1, 1\n",
    "a = 10"
   ]
  },
  {
   "cell_type": "code",
   "execution_count": 55,
   "metadata": {},
   "outputs": [],
   "source": [
    "n_max = 10"
   ]
  },
  {
   "cell_type": "code",
   "execution_count": 56,
   "metadata": {},
   "outputs": [],
   "source": [
    "uncorrected_results =\\\n",
    "    ftv.dimless_vertex_partial_sum_sequence(q1_eucl, q2_eucl, xis, a, n_max, add_zeta_correction=False)"
   ]
  },
  {
   "cell_type": "code",
   "execution_count": 57,
   "metadata": {},
   "outputs": [],
   "source": [
    "corrected_results =\\\n",
    "    ftv.dimless_vertex_partial_sum_sequence(q1_eucl, q2_eucl, xis, a, n_max, add_zeta_correction=True)"
   ]
  },
  {
   "cell_type": "code",
   "execution_count": 58,
   "metadata": {},
   "outputs": [],
   "source": [
    "uncorrected_parsums = np.array([real_finite_part(parsum) for parsum in uncorrected_results[0]])\n",
    "corrected_parsums = np.array([real_finite_part(parsum) for parsum in corrected_results[0]])"
   ]
  },
  {
   "cell_type": "code",
   "execution_count": 61,
   "metadata": {},
   "outputs": [
    {
     "data": {
      "text/plain": [
       "<matplotlib.legend.Legend at 0x7f5d9e44cca0>"
      ]
     },
     "execution_count": 61,
     "metadata": {},
     "output_type": "execute_result"
    },
    {
     "data": {
      "image/png": "[encoded data removed]",
      "text/plain": [
       "<Figure size 432x288 with 1 Axes>"
      ]
     },
     "metadata": {
      "needs_background": "light"
     },
     "output_type": "display_data"
    }
   ],
   "source": [
    "n_grid = np.arange(0, n_max + 1)\n",
    "scale = 10\n",
    "fig, ax = plt.subplots()\n",
    "ax.scatter(n_grid, uncorrected_parsums * scale, color='blue', label='uncorrected', marker='.')\n",
    "ax.scatter(n_grid, corrected_parsums * scale, color='orange', label='corrected', marker='.')\n",
    "ax.set_xlabel(r'$n$')\n",
    "ax.set_ylabel(r'$\\tilde{\\Gamma}$' + ' * {:4.2e}'.format(scale))\n",
    "ax.legend(loc='upper right')"
   ]
  },
  {
   "cell_type": "code",
   "execution_count": null,
   "metadata": {},
   "outputs": [],
   "source": []
  }
 ],
 "metadata": {
  "kernelspec": {
   "display_name": "pysecdec-env",
   "language": "python",
   "name": "python3"
  },
  "language_info": {
   "codemirror_mode": {
    "name": "ipython",
    "version": 3
   },
   "file_extension": ".py",
   "mimetype": "text/x-python",
   "name": "python",
   "nbconvert_exporter": "python",
   "pygments_lexer": "ipython3",
   "version": "3.9.12"
  },
  "orig_nbformat": 4
 },
 "nbformat": 4,
 "nbformat_minor": 2
}
