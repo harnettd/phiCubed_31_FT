{
 "cells": [
  {
   "attachments": {},
   "cell_type": "markdown",
   "metadata": {},
   "source": [
    "# Spatial Integral Plots"
   ]
  },
  {
   "attachments": {},
   "cell_type": "markdown",
   "metadata": {},
   "source": [
    "## Imports, Declarations, and Definitions"
   ]
  },
  {
   "cell_type": "code",
   "execution_count": 37,
   "metadata": {},
   "outputs": [],
   "source": [
    "import matplotlib.pyplot as plt\n",
    "import numpy as np\n",
    "from sympy import re, symbols\n",
    "\n",
    "import spatial_integral as spint"
   ]
  },
  {
   "cell_type": "code",
   "execution_count": 11,
   "metadata": {},
   "outputs": [],
   "source": [
    "eps = symbols('eps')"
   ]
  },
  {
   "cell_type": "code",
   "execution_count": 12,
   "metadata": {},
   "outputs": [],
   "source": [
    "def real_finite_part(expr):\n",
    "    \"\"\"Return the real finite part of a Laurent series\"\"\"\n",
    "    return re(expr.subs(eps, 0))"
   ]
  },
  {
   "attachments": {},
   "cell_type": "markdown",
   "metadata": {},
   "source": [
    "## Generate Data"
   ]
  },
  {
   "cell_type": "code",
   "execution_count": 35,
   "metadata": {},
   "outputs": [],
   "source": [
    "px_grid = np.arange(-5, 6, 0.25)\n",
    "deltas = 2, 2, 2"
   ]
  },
  {
   "cell_type": "code",
   "execution_count": 36,
   "metadata": {},
   "outputs": [],
   "source": [
    "spint_vals_psd = [spint.use_psd([px, 0, 0], [px, 0, 0], *deltas) for px in px_grid]\n",
    "spint_vals_tplquad = [spint.use_tplquad([px, 0, 0], [px, 0, 0], *deltas) for px in px_grid]"
   ]
  },
  {
   "cell_type": "code",
   "execution_count": 38,
   "metadata": {},
   "outputs": [],
   "source": [
    "spint_vals_psd_re_fin = np.array([real_finite_part(x) for x in spint_vals_psd])\n",
    "spint_vals_tplquad_re_fin = np.array([x[0].real for x in spint_vals_tplquad])"
   ]
  },
  {
   "attachments": {},
   "cell_type": "markdown",
   "metadata": {},
   "source": [
    "TODO: Write data to file."
   ]
  },
  {
   "cell_type": "code",
   "execution_count": 45,
   "metadata": {},
   "outputs": [],
   "source": [
    "spint_plot_data = {\n",
    "    'px_grid': px_grid,\n",
    "    'spint_vals_psd_re_fin': spint_vals_psd_re_fin,\n",
    "    'spint_vals_tplquad_re_fin': spint_vals_tplquad_re_fin\n",
    "}"
   ]
  },
  {
   "attachments": {},
   "cell_type": "markdown",
   "metadata": {},
   "source": [
    "# Plot Data"
   ]
  },
  {
   "cell_type": "code",
   "execution_count": 48,
   "metadata": {},
   "outputs": [],
   "source": [
    "scale = 1e3"
   ]
  },
  {
   "cell_type": "code",
   "execution_count": 54,
   "metadata": {},
   "outputs": [
    {
     "data": {
      "text/plain": [
       "<matplotlib.legend.Legend at 0x7f54eadf1310>"
      ]
     },
     "execution_count": 54,
     "metadata": {},
     "output_type": "execute_result"
    },
    {
     "data": {
      "image/png": "[encoded data removed]",
      "text/plain": [
       "<Figure size 432x288 with 1 Axes>"
      ]
     },
     "metadata": {
      "needs_background": "light"
     },
     "output_type": "display_data"
    }
   ],
   "source": [
    "fig, ax = plt.subplots()\n",
    "ax.scatter(spint_plot_data['px_grid'], spint_plot_data['spint_vals_psd_re_fin'] * scale,\n",
    "    label='pySecDec', color='blue', marker='o')\n",
    "ax.scatter(spint_plot_data['px_grid'], spint_plot_data['spint_vals_tplquad_re_fin'] * scale,\n",
    "    label='tplquad', color='red', marker='.')\n",
    "ax.set_xlabel(r'$p^x$')\n",
    "ax.set_ylabel(f'Spatial Integral * {scale}')\n",
    "ax.legend(loc='upper right')"
   ]
  },
  {
   "cell_type": "code",
   "execution_count": null,
   "metadata": {},
   "outputs": [],
   "source": []
  }
 ],
 "metadata": {
  "kernelspec": {
   "display_name": "pysecdec-env",
   "language": "python",
   "name": "python3"
  },
  "language_info": {
   "codemirror_mode": {
    "name": "ipython",
    "version": 3
   },
   "file_extension": ".py",
   "mimetype": "text/x-python",
   "name": "python",
   "nbconvert_exporter": "python",
   "pygments_lexer": "ipython3",
   "version": "3.9.12"
  },
  "orig_nbformat": 4,
  "vscode": {
   "interpreter": {
    "hash": "d320b88fac0ae40178561ed434f6ae6c24c4a4a5c546d8b88a0df2ee837e0396"
   }
  }
 },
 "nbformat": 4,
 "nbformat_minor": 2
}
