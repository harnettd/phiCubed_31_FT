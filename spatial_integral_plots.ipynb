{
 "cells": [
  {
   "attachments": {},
   "cell_type": "markdown",
   "metadata": {},
   "source": [
    "# Spatial Integral Plots"
   ]
  },
  {
   "attachments": {},
   "cell_type": "markdown",
   "metadata": {},
   "source": [
    "## Imports, Declarations, and Definitions"
   ]
  },
  {
   "cell_type": "code",
   "execution_count": 1,
   "metadata": {},
   "outputs": [],
   "source": [
    "import matplotlib.pyplot as plt\n",
    "import numpy as np\n",
    "from sympy import re, symbols\n",
    "\n",
    "import spatial_integral as spint"
   ]
  },
  {
   "cell_type": "code",
   "execution_count": 2,
   "metadata": {},
   "outputs": [],
   "source": [
    "eps = symbols('eps')"
   ]
  },
  {
   "cell_type": "code",
   "execution_count": 3,
   "metadata": {},
   "outputs": [],
   "source": [
    "def real_finite_part(expr):\n",
    "    \"\"\"Return the real finite part of a Laurent series\"\"\"\n",
    "    return re(expr.subs(eps, 0))"
   ]
  },
  {
   "attachments": {},
   "cell_type": "markdown",
   "metadata": {},
   "source": [
    "## Generate Data"
   ]
  },
  {
   "cell_type": "code",
   "execution_count": 4,
   "metadata": {},
   "outputs": [],
   "source": [
    "px_grid = np.arange(-5, 6, 1)\n",
    "deltas = 2, 2, 2"
   ]
  },
  {
   "cell_type": "code",
   "execution_count": 5,
   "metadata": {},
   "outputs": [],
   "source": [
    "spint_vals_psd = [spint.use_psd([px, 0, 0], [px, 0, 0], deltas) for px in px_grid]\n",
    "spint_vals_tplquad = [spint.use_tplquad([px, 0, 0], [px, 0, 0], deltas) for px in px_grid]"
   ]
  },
  {
   "cell_type": "code",
   "execution_count": 66,
   "metadata": {},
   "outputs": [],
   "source": [
    "spint_vals_psd_plotdata = np.array([real_finite_part(val[0]) for val in spint_vals_psd], dtype=float)\n",
    "spint_errs_psd_plotdata = np.array([real_finite_part(val[1]) for val in spint_vals_psd], dtype=float)"
   ]
  },
  {
   "cell_type": "code",
   "execution_count": 67,
   "metadata": {},
   "outputs": [],
   "source": [
    "spint_vals_tplquad_plotdata = np.array([val[0].real for val in spint_vals_tplquad], dtype=float)\n",
    "spint_errs_tplquad_plotdata = np.array([val[1].real for val in spint_vals_tplquad], dtype=float)"
   ]
  },
  {
   "attachments": {},
   "cell_type": "markdown",
   "metadata": {},
   "source": [
    "# Plot Data"
   ]
  },
  {
   "cell_type": "code",
   "execution_count": 78,
   "metadata": {},
   "outputs": [
    {
     "data": {
      "image/png": "[encoded data removed]",
      "text/plain": [
       "<Figure size 432x288 with 1 Axes>"
      ]
     },
     "metadata": {
      "needs_background": "light"
     },
     "output_type": "display_data"
    }
   ],
   "source": [
    "scale = 1e3\n",
    "fig, ax = plt.subplots()\n",
    "ax.errorbar(x=px_grid, y=spint_vals_psd_plotdata * scale, yerr=spint_errs_psd_plotdata * scale, \n",
    "    fmt='.', label='pySecDec', color='blue')\n",
    "ax.errorbar(x=px_grid, y=spint_vals_tplquad_plotdata * scale, yerr=spint_errs_tplquad_plotdata * scale, \n",
    "    fmt='.', label='tplquad', color='red')\n",
    "ax.set_xlabel(r'$p^x$')\n",
    "ax.set_ylabel('Spatial Integral * {:3.1e}'.format(scale))\n",
    "ax.legend(loc='upper right')\n",
    "fig.set_size_inches(6, 4)"
   ]
  },
  {
   "cell_type": "code",
   "execution_count": null,
   "metadata": {},
   "outputs": [],
   "source": []
  }
 ],
 "metadata": {
  "kernelspec": {
   "display_name": "pysecdec-env",
   "language": "python",
   "name": "python3"
  },
  "language_info": {
   "codemirror_mode": {
    "name": "ipython",
    "version": 3
   },
   "file_extension": ".py",
   "mimetype": "text/x-python",
   "name": "python",
   "nbconvert_exporter": "python",
   "pygments_lexer": "ipython3",
   "version": "3.9.12"
  },
  "orig_nbformat": 4,
  "vscode": {
   "interpreter": {
    "hash": "d320b88fac0ae40178561ed434f6ae6c24c4a4a5c546d8b88a0df2ee837e0396"
   }
  }
 },
 "nbformat": 4,
 "nbformat_minor": 2
}
