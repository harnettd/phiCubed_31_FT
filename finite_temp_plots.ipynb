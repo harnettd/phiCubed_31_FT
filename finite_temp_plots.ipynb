{
 "cells": [
  {
   "cell_type": "code",
   "execution_count": 1,
   "metadata": {},
   "outputs": [],
   "source": [
    "import matplotlib.pyplot as plt\n",
    "import numpy as np\n",
    "from sympy import expand, I, im, symbols, re\n",
    "\n",
    "import correlator as corr"
   ]
  },
  {
   "cell_type": "code",
   "execution_count": 2,
   "metadata": {},
   "outputs": [],
   "source": [
    "eps = symbols('eps')"
   ]
  },
  {
   "cell_type": "code",
   "execution_count": 3,
   "metadata": {},
   "outputs": [],
   "source": [
    "mass_1, mass_2, mass_3 = 1, 2, 3"
   ]
  },
  {
   "cell_type": "code",
   "execution_count": 37,
   "metadata": {},
   "outputs": [],
   "source": [
    "beta = 10"
   ]
  },
  {
   "cell_type": "code",
   "execution_count": 22,
   "metadata": {},
   "outputs": [],
   "source": [
    "p1 = [0, 0, 0, 0]\n",
    "p2 = [0, 0, 0, 0]"
   ]
  },
  {
   "cell_type": "code",
   "execution_count": 42,
   "metadata": {},
   "outputs": [],
   "source": [
    "n_range = np.array([n for n in range(-10, 11)])"
   ]
  },
  {
   "cell_type": "code",
   "execution_count": 43,
   "metadata": {},
   "outputs": [],
   "source": [
    "corr_finite_temp_data = np.array([corr.finite_temp_term(p1, p2, mass_1, mass_2, mass_3, beta, n) for n in n_range])"
   ]
  },
  {
   "cell_type": "code",
   "execution_count": 44,
   "metadata": {},
   "outputs": [],
   "source": [
    "Gamma_finite_temp_data = np.array([expand(I*ftd).subs('eps', 0) for ftd in corr_finite_temp_data])\n",
    "Gamma_finite_temp_data_re = np.array([re(x) for x in Gamma_finite_temp_data])\n",
    "Gamma_finite_temp_data_im = np.array([im(x) for x in Gamma_finite_temp_data])"
   ]
  },
  {
   "cell_type": "code",
   "execution_count": 45,
   "metadata": {},
   "outputs": [
    {
     "data": {
      "text/plain": [
       "array([3.40022889064285291e-6, 4.50124290152753605e-6,\n",
       "       6.10847742953759171e-6, 8.52895315290015340e-6,\n",
       "       0.0000123001117052274635, 0.0000183854846229225858,\n",
       "       0.0000285179872103672903, 0.0000456395498767070027,\n",
       "       0.0000735189500504309030, 0.000110789947420074451,\n",
       "       0.000132629300321475581, 0.000110789947420074451,\n",
       "       0.0000735189500504309030, 0.0000456395498767070027,\n",
       "       0.0000285179872103672903, 0.0000183854846229225858,\n",
       "       0.0000123001117052274635, 8.52895315290015340e-6,\n",
       "       6.10847742953759171e-6, 4.50124290152753605e-6,\n",
       "       3.40022889064285291e-6], dtype=object)"
      ]
     },
     "execution_count": 45,
     "metadata": {},
     "output_type": "execute_result"
    }
   ],
   "source": [
    "Gamma_finite_temp_data_re"
   ]
  },
  {
   "cell_type": "code",
   "execution_count": 49,
   "metadata": {},
   "outputs": [
    {
     "data": {
      "text/plain": [
       "Text(0, 0.5, '$\\\\mathrm{Re}\\\\Gamma\\\\times 10^5$')"
      ]
     },
     "execution_count": 49,
     "metadata": {},
     "output_type": "execute_result"
    },
    {
     "data": {
      "image/png": "[encoded data removed]",
      "text/plain": [
       "<Figure size 432x288 with 1 Axes>"
      ]
     },
     "metadata": {
      "needs_background": "light"
     },
     "output_type": "display_data"
    }
   ],
   "source": [
    "fig, ax = plt.subplots()\n",
    "ax.scatter(n_range, 1e5*Gamma_finite_temp_data_re)\n",
    "ax.set_xlabel(r'$n$')\n",
    "ax.set_ylabel(r'$\\mathrm{Re}\\Gamma\\times 10^5$')"
   ]
  },
  {
   "cell_type": "code",
   "execution_count": null,
   "metadata": {},
   "outputs": [],
   "source": []
  }
 ],
 "metadata": {
  "kernelspec": {
   "display_name": "pysecdec-env",
   "language": "python",
   "name": "python3"
  },
  "language_info": {
   "codemirror_mode": {
    "name": "ipython",
    "version": 3
   },
   "file_extension": ".py",
   "mimetype": "text/x-python",
   "name": "python",
   "nbconvert_exporter": "python",
   "pygments_lexer": "ipython3",
   "version": "3.9.12"
  },
  "orig_nbformat": 4,
  "vscode": {
   "interpreter": {
    "hash": "d320b88fac0ae40178561ed434f6ae6c24c4a4a5c546d8b88a0df2ee837e0396"
   }
  }
 },
 "nbformat": 4,
 "nbformat_minor": 2
}
