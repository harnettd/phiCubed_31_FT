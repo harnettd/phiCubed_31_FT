{
 "cells": [
  {
   "cell_type": "code",
   "execution_count": 1,
   "metadata": {},
   "outputs": [],
   "source": [
    "import matplotlib.pyplot as plt\n",
    "import numpy as np\n",
    "from sympy import expand, I, im, symbols, re\n",
    "\n",
    "import correlator as corr"
   ]
  },
  {
   "cell_type": "code",
   "execution_count": 2,
   "metadata": {},
   "outputs": [],
   "source": [
    "eps = symbols('eps')"
   ]
  },
  {
   "cell_type": "code",
   "execution_count": 3,
   "metadata": {},
   "outputs": [],
   "source": [
    "mass_1, mass_2, mass_3 = 1, 2, 3"
   ]
  },
  {
   "cell_type": "code",
   "execution_count": 4,
   "metadata": {},
   "outputs": [],
   "source": [
    "beta = 10"
   ]
  },
  {
   "cell_type": "code",
   "execution_count": 5,
   "metadata": {},
   "outputs": [],
   "source": [
    "p1 = [0, 0, 0, 0]\n",
    "p2 = [0, 0, 0, 0]"
   ]
  },
  {
   "cell_type": "code",
   "execution_count": 11,
   "metadata": {},
   "outputs": [],
   "source": [
    "n_range = np.array([n for n in range(-20, 21)])"
   ]
  },
  {
   "cell_type": "code",
   "execution_count": 12,
   "metadata": {},
   "outputs": [],
   "source": [
    "corr_finite_temp_data = np.array([corr.finite_temp_term(p1, p2, mass_1, mass_2, mass_3, beta, n) for n in n_range])"
   ]
  },
  {
   "cell_type": "code",
   "execution_count": 13,
   "metadata": {},
   "outputs": [],
   "source": [
    "Gamma_finite_temp_data = np.array([expand(I*ftd).subs('eps', 0) for ftd in corr_finite_temp_data])\n",
    "Gamma_finite_temp_data_re = np.array([re(x) for x in Gamma_finite_temp_data])\n",
    "Gamma_finite_temp_data_im = np.array([im(x) for x in Gamma_finite_temp_data])"
   ]
  },
  {
   "cell_type": "code",
   "execution_count": 46,
   "metadata": {},
   "outputs": [
    {
     "data": {
      "text/plain": [
       "array([4.79936837480091370e-7, 5.57204610271554455e-7,\n",
       "       6.51819281638939449e-7, 7.68878493922146150e-7,\n",
       "       9.15364233368544791e-7, 1.10099569100619048e-6,\n",
       "       1.33954438511028811e-6, 1.65090856989756401e-6,\n",
       "       2.06446287641101721e-6, 2.62460936394897024e-6,\n",
       "       3.40022889064285291e-6, 4.50124290152753605e-6,\n",
       "       6.10847742953759171e-6, 8.52895315290015340e-6,\n",
       "       0.0000123001117052274635, 0.0000183854846229225858,\n",
       "       0.0000285179872103672903, 0.0000456395498767070027,\n",
       "       0.0000735189500504309030, 0.000110789947420074451,\n",
       "       0.000132629300321475581, 0.000110789947420074451,\n",
       "       0.0000735189500504309030, 0.0000456395498767070027,\n",
       "       0.0000285179872103672903, 0.0000183854846229225858,\n",
       "       0.0000123001117052274635, 8.52895315290015340e-6,\n",
       "       6.10847742953759171e-6, 4.50124290152753605e-6,\n",
       "       3.40022889064285291e-6, 2.62460936394897024e-6,\n",
       "       2.06446287641101721e-6, 1.65090856989756401e-6,\n",
       "       1.33954438511028811e-6, 1.10099569100619048e-6,\n",
       "       9.15364233368544791e-7, 7.68878493922146150e-7,\n",
       "       6.51819281638939449e-7, 5.57204610271554455e-7,\n",
       "       4.79936837480091370e-7], dtype=object)"
      ]
     },
     "execution_count": 46,
     "metadata": {},
     "output_type": "execute_result"
    }
   ],
   "source": [
    "Gamma_finite_temp_data_re"
   ]
  },
  {
   "cell_type": "code",
   "execution_count": 15,
   "metadata": {},
   "outputs": [
    {
     "data": {
      "text/plain": [
       "Text(0, 0.5, '$\\\\mathrm{Re}\\\\Gamma\\\\times 10^5$')"
      ]
     },
     "execution_count": 15,
     "metadata": {},
     "output_type": "execute_result"
    },
    {
     "data": {
      "image/png": "[encoded data removed]",
      "text/plain": [
       "<Figure size 432x288 with 1 Axes>"
      ]
     },
     "metadata": {
      "needs_background": "light"
     },
     "output_type": "display_data"
    }
   ],
   "source": [
    "fig, ax = plt.subplots()\n",
    "ax.scatter(n_range, 1e5*Gamma_finite_temp_data_re)\n",
    "ax.set_xlabel(r'$n$')\n",
    "ax.set_ylabel(r'$\\mathrm{Re}\\Gamma\\times 10^5$')"
   ]
  },
  {
   "cell_type": "code",
   "execution_count": 146,
   "metadata": {},
   "outputs": [],
   "source": [
    "qq_grid = np.linspace(0, 5, 11)\n",
    "p1_p2_grid = [corr.p1_p2(qq) for qq in qq_grid]\n",
    "n_grid = np.arange(-5, 6)\n",
    "corr_seq = np.array([[corr.finite_temp_term(*momenta, mass_1, mass_2, mass_3, beta, n) for n in n_grid] for momenta in p1_p2_grid])"
   ]
  },
  {
   "cell_type": "code",
   "execution_count": 147,
   "metadata": {},
   "outputs": [],
   "source": [
    "num_rows = corr_seq.shape[0]\n",
    "num_cols = corr_seq.shape[1]\n",
    "Gamma_seq = np.zeros(corr_seq.size, dtype='complex').reshape(corr_seq.shape)\n",
    "for row in range(num_rows):\n",
    "    for col in range(num_cols):\n",
    "        Gamma_seq[row, col] = 1j * corr_seq[row, col].subs('eps', 0)"
   ]
  },
  {
   "cell_type": "code",
   "execution_count": 148,
   "metadata": {},
   "outputs": [],
   "source": [
    "n_max = n_grid[-1]\n",
    "Gamma_partial_sums = np.zeros(num_rows * (n_max + 1), dtype='complex').reshape(num_rows, n_max + 1)\n",
    "Gamma_partial_sums[:, 0] = Gamma_seq[:, n_max]\n",
    "\n",
    "for n in range(1, n_max + 1):\n",
    "    Gamma_partial_sums[:, n] = Gamma_partial_sums[:, n - 1] + Gamma_seq[:, n_max + n] + Gamma_seq[:, n_max - n]\n"
   ]
  },
  {
   "cell_type": "code",
   "execution_count": 149,
   "metadata": {},
   "outputs": [
    {
     "data": {
      "text/plain": [
       "[<matplotlib.lines.Line2D at 0x7fa3c17715b0>]"
      ]
     },
     "execution_count": 149,
     "metadata": {},
     "output_type": "execute_result"
    },
    {
     "data": {
      "image/png": "[encoded data removed]",
      "text/plain": [
       "<Figure size 432x288 with 1 Axes>"
      ]
     },
     "metadata": {
      "needs_background": "light"
     },
     "output_type": "display_data"
    }
   ],
   "source": [
    "fig, ax = plt.subplots()\n",
    "ax.plot(n_grid, 1e4 * np.array([re(x) for x in Gamma_seq[0]]))\n",
    "ax.plot(n_grid, 1e4 * np.array([re(x) for x in Gamma_seq[1]]))\n",
    "ax.plot(n_grid, 1e4 * np.array([re(x) for x in Gamma_seq[2]]))\n",
    "ax.plot(n_grid, 1e4 * np.array([re(x) for x in Gamma_seq[3]]))\n",
    "ax.plot(n_grid, 1e4 * np.array([re(x) for x in Gamma_seq[4]]))\n",
    "ax.plot(n_grid, 1e4 * np.array([re(x) for x in Gamma_seq[5]]))"
   ]
  },
  {
   "cell_type": "code",
   "execution_count": 130,
   "metadata": {},
   "outputs": [
    {
     "data": {
      "text/plain": [
       "<matplotlib.collections.PathCollection at 0x7fa3c1de37f0>"
      ]
     },
     "execution_count": 130,
     "metadata": {},
     "output_type": "execute_result"
    },
    {
     "data": {
      "image/png": "[encoded data removed]",
      "text/plain": [
       "<Figure size 432x288 with 2 Axes>"
      ]
     },
     "metadata": {
      "needs_background": "light"
     },
     "output_type": "display_data"
    }
   ],
   "source": [
    "fig, ax = plt.subplots(2)\n",
    "ax[1].scatter(qq_grid, 1e4 * np.array([re(s) for s in partial_sums[:, 0]]))\n",
    "ax[1].scatter(qq_grid, 1e4 * np.array([re(s) for s in partial_sums[:, 1]]))\n",
    "ax[1].scatter(qq_grid, 1e4 * np.array([re(s) for s in partial_sums[:, 2]]))"
   ]
  },
  {
   "cell_type": "code",
   "execution_count": null,
   "metadata": {},
   "outputs": [],
   "source": []
  }
 ],
 "metadata": {
  "kernelspec": {
   "display_name": "pysecdec-env",
   "language": "python",
   "name": "python3"
  },
  "language_info": {
   "codemirror_mode": {
    "name": "ipython",
    "version": 3
   },
   "file_extension": ".py",
   "mimetype": "text/x-python",
   "name": "python",
   "nbconvert_exporter": "python",
   "pygments_lexer": "ipython3",
   "version": "3.9.12 (main, Apr  5 2022, 06:56:58) \n[GCC 7.5.0]"
  },
  "orig_nbformat": 4,
  "vscode": {
   "interpreter": {
    "hash": "d320b88fac0ae40178561ed434f6ae6c24c4a4a5c546d8b88a0df2ee837e0396"
   }
  }
 },
 "nbformat": 4,
 "nbformat_minor": 2
}
