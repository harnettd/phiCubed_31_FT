{
 "cells": [
  {
   "attachments": {},
   "cell_type": "markdown",
   "metadata": {},
   "source": [
    "# The Scalar 1-Loop, 3-Point Vertex Function at Finite Temperature"
   ]
  },
  {
   "cell_type": "code",
   "execution_count": 6,
   "metadata": {},
   "outputs": [],
   "source": [
    "import matplotlib.pyplot as plt\n",
    "import numpy as np\n",
    "from sympy import expand, I, im, symbols, re\n",
    "\n",
    "import correlator as corr"
   ]
  },
  {
   "cell_type": "code",
   "execution_count": 2,
   "metadata": {},
   "outputs": [],
   "source": [
    "eps = symbols(\"eps\")"
   ]
  },
  {
   "cell_type": "code",
   "execution_count": 4,
   "metadata": {},
   "outputs": [],
   "source": [
    "qq_grid = np.arange(-4, 1)\n",
    "masses = 1, 2, 3\n",
    "beta_grid = np.array([0.3, 1])\n",
    "n_max = 4\n",
    "n_grid = np.arange(-n_max, n_max + 1)"
   ]
  },
  {
   "cell_type": "code",
   "execution_count": 5,
   "metadata": {},
   "outputs": [],
   "source": [
    "finite_temp_data_Pi =\\\n",
    "    np.array([[[corr.finite_temp_term(*corr.p1_p2(qq),*masses, beta, n) for n in n_grid] for qq in qq_grid] for beta in beta_grid])"
   ]
  },
  {
   "cell_type": "code",
   "execution_count": 17,
   "metadata": {},
   "outputs": [],
   "source": [
    "\n",
    "finite_temp_data_Gamma = np.zeros(finite_temp_data_Pi.size, dtype=\"complex128\").reshape(finite_temp_data_Pi.shape)\n",
    "finite_temp_data_re_Gamma = np.zeros(finite_temp_data_Gamma.size, dtype=\"float64\").reshape(finite_temp_data_Gamma.shape)\n",
    "finite_temp_data_im_Gamma = np.copy(finite_temp_data_re_Gamma)\n",
    "floors, rows, cols = finite_temp_data_Gamma.shape\n",
    "for r in range(rows):\n",
    "    for c in range(cols):\n",
    "        for f in range(floors):\n",
    "            finite_temp_data_Gamma[f, r, c] = expand(I * finite_temp_data_Pi[f, r, c].subs(\"eps\", 0))\n",
    "            finite_temp_data_re_Gamma[f, r, c] = re(finite_temp_data_Gamma[f, r, c])\n",
    "            finite_temp_data_im_Gamma[f, r, c] = im(finite_temp_data_Gamma[f, r, c])"
   ]
  },
  {
   "cell_type": "code",
   "execution_count": 23,
   "metadata": {},
   "outputs": [],
   "source": [
    "# cols is an odd, positive integer\n",
    "partial_sums_Gamma = np.zeros(floors * rows * ((cols + 1) // 2), dtype=\"complex128\").reshape(floors, rows, (cols + 1) // 2)\n",
    "partial_sums_re_Gamma = np.zeros(partial_sums_Gamma.size).reshape(partial_sums_Gamma.shape)\n",
    "partial_sums_im_Gamma = np.copy(partial_sums_re_Gamma)\n",
    "for f in range(floors):\n",
    "    partial_sums_Gamma[f, :, 0] = finite_temp_data_Gamma[f, :, n_max]\n",
    "    partial_sums_re_Gamma[f, :, 0] = np.array([re(x) for x in partial_sums_Gamma[f, :, 0]])\n",
    "    partial_sums_im_Gamma[f, :, 0] = np.array([im(x) for x in partial_sums_Gamma[f, :, 0]])\n",
    "    for c in range(1, partial_sums_Gamma.shape[1]):\n",
    "        partial_sums_Gamma[f, :, c] = partial_sums_Gamma[f, :, c - 1]\\\n",
    "            + finite_temp_data_Gamma[f, :, n_max - c] + finite_temp_data_Gamma[f, :, n_max + c]\n",
    "        partial_sums_re_Gamma[f, :, c] = np.array([re(x) for x in partial_sums_Gamma[f, :, c]])\n",
    "        partial_sums_im_Gamma[f, :, c] = np.array([im(x) for x in partial_sums_Gamma[f, :, c]])"
   ]
  },
  {
   "attachments": {},
   "cell_type": "markdown",
   "metadata": {},
   "source": [
    "## Sequence Plots"
   ]
  },
  {
   "cell_type": "code",
   "execution_count": null,
   "metadata": {},
   "outputs": [],
   "source": [
    "selected_qq_grid_indices = [0, 5, 10, 20, 25, 30, -1]"
   ]
  },
  {
   "cell_type": "code",
   "execution_count": null,
   "metadata": {},
   "outputs": [],
   "source": [
    "fig, ax = plt.subplots()\n",
    "for r in selected_qq_grid_indices:\n",
    "    ax.plot(n_grid, 1e4 * finite_temp_data_re_Gamma[r, :], label=r\"$q^2=$\" + str(qq_grid[r]))\n",
    "ax.set_xlabel(\"n\")\n",
    "ax.set_ylabel(r\"$\\mathrm{Re}\\Gamma_n \\times 10^4$\")\n",
    "ax.legend(loc=\"upper right\")"
   ]
  },
  {
   "cell_type": "code",
   "execution_count": null,
   "metadata": {},
   "outputs": [],
   "source": [
    "fig, ax = plt.subplots()\n",
    "for r in selected_qq_grid_indices:\n",
    "    ax.plot(n_grid, 1e4 * finite_temp_data_im_Gamma[r, :], label=r\"$q^2=$\" + str(qq_grid[r]))\n",
    "ax.set_xlabel(\"n\")\n",
    "ax.set_ylabel(r\"$\\mathrm{Im}\\Gamma_n \\times 10^4$\")\n",
    "ax.legend(loc=\"upper right\")"
   ]
  },
  {
   "attachments": {},
   "cell_type": "markdown",
   "metadata": {},
   "source": [
    "## Partial Sums Plots"
   ]
  },
  {
   "cell_type": "code",
   "execution_count": null,
   "metadata": {},
   "outputs": [],
   "source": [
    "fig, ax = plt.subplots()\n",
    "for r in selected_qq_grid_indices:\n",
    "    ax.plot(n_grid[n_max:], 1e4 * partial_sums_re_Gamma[r, :],\n",
    "    label=r\"$q^2=$\" + str(qq_grid[r]), marker=\".\")\n",
    "ax.set_xlabel(\"n\")\n",
    "ax.set_ylabel(r\"$\\mathrm{Re}S_n \\times 10^4$\")\n",
    "ax.legend(loc=\"lower right\")"
   ]
  },
  {
   "cell_type": "code",
   "execution_count": null,
   "metadata": {},
   "outputs": [],
   "source": [
    "fig, ax = plt.subplots()\n",
    "for r in selected_qq_grid_indices:\n",
    "    ax.plot(n_grid[n_max:], 1e4 * partial_sums_im_Gamma[r, :],\n",
    "    label=r\"$q^2=$\" + str(qq_grid[r]), marker=\".\")\n",
    "ax.set_xlabel(\"n\")\n",
    "ax.set_ylabel(r\"$\\mathrm{Im}S_n \\times 10^4$\")\n",
    "ax.legend(loc=\"lower left\")"
   ]
  },
  {
   "attachments": {},
   "cell_type": "markdown",
   "metadata": {},
   "source": [
    "## The Vertex Function"
   ]
  },
  {
   "cell_type": "code",
   "execution_count": null,
   "metadata": {},
   "outputs": [],
   "source": [
    "fig, ax = plt.subplots()\n",
    "ax.plot(qq_grid, 1e4 * partial_sums_re_Gamma[:, -1], marker=\".\", color=\"blue\", label=r\"$\\mathrm{Re}\\Gamma$\")\n",
    "ax.plot(qq_grid, 1e4 * partial_sums_im_Gamma[:, -1], marker=\".\", color=\"red\", label=r\"$\\mathrm{Im}\\Gamma$\")\n",
    "ax.set_xlabel(r\"$q^2$\")\n",
    "ax.set_ylabel(r\"$\\Gamma(q^2)\\times 10^4$\")\n",
    "ax.set_title(r\"The vertex function at $\\beta=${} the symmetric point\".format(beta))\n",
    "ax.legend(loc=\"upper right\")"
   ]
  },
  {
   "cell_type": "code",
   "execution_count": null,
   "metadata": {},
   "outputs": [],
   "source": []
  }
 ],
 "metadata": {
  "kernelspec": {
   "display_name": "pysecdec-env",
   "language": "python",
   "name": "python3"
  },
  "language_info": {
   "codemirror_mode": {
    "name": "ipython",
    "version": 3
   },
   "file_extension": ".py",
   "mimetype": "text/x-python",
   "name": "python",
   "nbconvert_exporter": "python",
   "pygments_lexer": "ipython3",
   "version": "3.9.12"
  },
  "orig_nbformat": 4,
  "vscode": {
   "interpreter": {
    "hash": "d320b88fac0ae40178561ed434f6ae6c24c4a4a5c546d8b88a0df2ee837e0396"
   }
  }
 },
 "nbformat": 4,
 "nbformat_minor": 2
}
